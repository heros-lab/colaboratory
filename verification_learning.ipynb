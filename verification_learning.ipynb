{
  "nbformat": 4,
  "nbformat_minor": 0,
  "metadata": {
    "colab": {
      "name": "verification_learning.ipynb",
      "provenance": [],
      "collapsed_sections": [],
      "include_colab_link": true
    },
    "kernelspec": {
      "name": "python3",
      "display_name": "Python 3"
    }
  },
  "cells": [
    {
      "cell_type": "markdown",
      "metadata": {
        "id": "view-in-github",
        "colab_type": "text"
      },
      "source": [
        "<a href=\"https://colab.research.google.com/github/heros-lab/colaboratory/blob/master/verification_learning.ipynb\" target=\"_parent\"><img src=\"https://colab.research.google.com/assets/colab-badge.svg\" alt=\"Open In Colab\"/></a>"
      ]
    },
    {
      "cell_type": "code",
      "metadata": {
        "id": "PnEg1U2nZz5j",
        "colab_type": "code",
        "colab": {}
      },
      "source": [
        "import numpy as np\n",
        "import pandas as pd\n",
        "import matplotlib.pyplot as plt\n",
        "\n",
        "from tensorflow.keras.backend import clear_session\n",
        "from tensorflow.keras.models import Sequential\n",
        "from tensorflow.keras.layers import Dense\n",
        "from tensorflow.keras.optimizers import Adam\n",
        "\n",
        "from google.colab import drive\n",
        "drive.mount('/content/drive')\n",
        "\n",
        "work_path = \"/content/drive/My Drive/Colab Notebooks\"\n"
      ],
      "execution_count": null,
      "outputs": []
    },
    {
      "cell_type": "code",
      "metadata": {
        "id": "ZKIHU4J5lNib",
        "colab_type": "code",
        "colab": {}
      },
      "source": [
        "class DatasetClass:\n",
        "    def __init__(self, data_path):\n",
        "        self.path = data_path\n",
        "    \n",
        "    def __reflect_index(self, data, index):\n",
        "        if index != None:\n",
        "            data = data[:, index]\n",
        "        return data\n",
        "        \n",
        "    def __load_df(self, data_label):\n",
        "        data_x = pd.read_csv(f\"{self.path}/{data_label}_nx.csv\", index_col=0)\n",
        "        data_y = pd.read_csv(f\"{self.path}/{data_label}_ny.csv\", index_col=0)\n",
        "        return data_x, data_y\n",
        "    \n",
        "    def __load_data(self, data_label, x_index, y_index):\n",
        "        data_x, data_y = self.__load_df(data_label)\n",
        "        data_x = self.__reflect_index(data_x.values, x_index)\n",
        "        data_y = self.__reflect_index(data_y.values, y_index)\n",
        "        return data_x, data_y\n",
        "    \n",
        "    def __load_stack(self, dataset_list, x_index, y_index):\n",
        "        for label in dataset_list:\n",
        "            tmp_x, tmp_y = self.__load_data(label, x_index, y_index)\n",
        "            if dataset_list.index(label) == 0:\n",
        "                data_x = tmp_x\n",
        "                data_y = tmp_y\n",
        "            else:\n",
        "                data_x = np.vstack((data_x, tmp_x))\n",
        "                data_y = np.vstack((data_y, tmp_y))\n",
        "        return data_x, data_y\n",
        "    \n",
        "    def __load_dict(self, dataset_list, x_index, y_index):\n",
        "        data_x, data_y = {}, {}\n",
        "        for label in dataset_list:\n",
        "            tmp_x, tmp_y = self.__load_data(label, x_index, y_index)\n",
        "            data_x[label] = tmp_x\n",
        "            data_y[label] = tmp_y\n",
        "        return data_x, data_y\n",
        "    \n",
        "    def get_data(self, dataset_label, x_index=None, y_index=None, dict_type:bool=False):\n",
        "        if not dict_type:\n",
        "            if type(dataset_label) == str:\n",
        "                data_x, data_y = self.__load_data(dataset_label, x_index, y_index)\n",
        "            else:\n",
        "                data_x, data_y = self.__load_stack(dataset_label, x_index, y_index)\n",
        "        else:\n",
        "            data_x, data_y = self.__load_dict(dataset_label, x_index, y_index)\n",
        "        return data_x, data_y\n",
        "    \n",
        "    def get_dataframe(self, dataset_list):\n",
        "        data_x = {}\n",
        "        data_y = {}\n",
        "        for label in dataset_list:\n",
        "            tmp_x, tmp_y = self.__load_df(label)\n",
        "            data_x[label] = tmp_x\n",
        "            data_y[label] = tmp_y\n",
        "        return data_x, data_y\n"
      ],
      "execution_count": null,
      "outputs": []
    },
    {
      "cell_type": "code",
      "metadata": {
        "id": "_tVgFmmQpTMf",
        "colab_type": "code",
        "colab": {}
      },
      "source": [
        "def get_index(model_type):\n",
        "    if \"Conv.\" in model_type:\n",
        "        x_index = [0,1,2,3,4,5,6]\n",
        "    elif \"1\" in model_type:\n",
        "        x_index = [0,3,4,6]\n",
        "    elif \"2\" in model_type:\n",
        "        x_index = [1,2,5,6]\n",
        "    elif \"3\" in model_type:\n",
        "        x_index = [1,2,5,6]\n",
        "    elif \"4\" in model_type:\n",
        "        x_index = [0,3,4,5,6]\n",
        "    else:\n",
        "        print(f\"Error::get_index: input model_type is not exist -> {model_type}\")\n",
        "        x_index = None\n",
        "\n",
        "    if x_index is None:\n",
        "        y_index = None\n",
        "    else:\n",
        "        y_index = [int(model_type[-1])-1]\n",
        "\n",
        "    return x_index, y_index\n"
      ],
      "execution_count": null,
      "outputs": []
    },
    {
      "cell_type": "code",
      "metadata": {
        "id": "lhU7dJf8rpXx",
        "colab_type": "code",
        "colab": {}
      },
      "source": [
        "def create_model(x_dim, y_dim, units):\n",
        "    act_function = \"tanh\"\n",
        "    init_method  = \"glorot_uniform\"\n",
        "    model = Sequential()\n",
        "    model.add(Dense(\n",
        "            input_dim=x_dim, units=units[0],\n",
        "            activation=act_function, kernel_initializer=init_method))\n",
        "    for i in range(len(units) - 1):\n",
        "        model.add(Dense(\n",
        "            input_dim=units[i], units=units[i+1],\n",
        "            activation=act_function, kernel_initializer=init_method))\n",
        "    model.add(Dense(input_dim=units[-1], units=y_dim))\n",
        "    model.compile(loss=\"mse\", optimizer=Adam())\n",
        "    return model\n"
      ],
      "execution_count": null,
      "outputs": []
    },
    {
      "cell_type": "code",
      "metadata": {
        "id": "N90Dl7PNo6Rb",
        "colab_type": "code",
        "colab": {}
      },
      "source": [
        "dataset = DatasetClass(f\"{work_path}/data/norms2\")"
      ],
      "execution_count": null,
      "outputs": []
    },
    {
      "cell_type": "code",
      "metadata": {
        "id": "3goKNDIRfLbF",
        "colab_type": "code",
        "colab": {}
      },
      "source": [
        "model_type = \"Prop.1\"\n",
        "learn_name = \"ms1a\"\n",
        "test_name  = \"ms2a\"\n",
        "\n",
        "x_index, y_index = get_index(model_type)\n",
        "learn_x, learn_y = dataset.get_data(learn_name, x_index, y_index)\n",
        "test_x, test_y = dataset.get_data(test_name, x_index, y_index, dict_type=True)\n",
        "\n",
        "print(f\"x_index: {x_index}\\ny_index: {y_index}\")"
      ],
      "execution_count": null,
      "outputs": []
    },
    {
      "cell_type": "code",
      "metadata": {
        "id": "HDbLgOp3RasE",
        "colab_type": "code",
        "colab": {}
      },
      "source": [
        "num_batch = 512\n",
        "num_units = [22, 2]\n",
        "\n",
        "epochs = 200\n",
        "num_sample = 101\n",
        "\n",
        "df_loss = pd.DataFrame({})\n",
        "df_msrs = pd.DataFrame({})\n",
        "df_free = pd.DataFrame({})\n",
        "df_step = pd.DataFrame({})\n",
        "\n",
        "for i in range(num_sample):\n",
        "    clear_session()\n",
        "    print(f\"\\rsampling: #{i:3} / {num_sample-1}\", end=\"\")\n",
        "    model = create_model(learn_x.shape[1], 1, num_units)\n",
        "    loss = model.fit(learn_x, learn_y, batch_size=num_batch, epochs=epochs, verbose=0)\n",
        "\n",
        "    df_loss[f\"#{i}\"] = [np.mean(loss.history[\"loss\"][-5:])]\n",
        "    df_msrs[f\"#{i}\"] = model.predict(test_x[test_name[0]], batch_size=num_batch)[:, 0]\n"
      ],
      "execution_count": null,
      "outputs": []
    },
    {
      "cell_type": "code",
      "metadata": {
        "id": "aygbZ0YOnJwN",
        "colab_type": "code",
        "colab": {}
      },
      "source": [
        "df_loss.to_csv(f\"{work_path}/verfs/{model_type}_loss.csv\")\n",
        "df_msrs.to_csv(f\"{work_path}/verfs/{model_type}_msrs.csv\")\n"
      ],
      "execution_count": null,
      "outputs": []
    },
    {
      "cell_type": "code",
      "metadata": {
        "id": "WocoKsCif2-x",
        "colab_type": "code",
        "colab": {}
      },
      "source": [
        ""
      ],
      "execution_count": null,
      "outputs": []
    }
  ]
}