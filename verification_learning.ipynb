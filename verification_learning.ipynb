{
  "nbformat": 4,
  "nbformat_minor": 0,
  "metadata": {
    "colab": {
      "name": "verification_learning.ipynb",
      "provenance": [],
      "collapsed_sections": [],
      "authorship_tag": "ABX9TyPeigS+i+CU9qktDf0/UK3C",
      "include_colab_link": true
    },
    "kernelspec": {
      "name": "python3",
      "display_name": "Python 3"
    },
    "accelerator": "TPU"
  },
  "cells": [
    {
      "cell_type": "markdown",
      "metadata": {
        "id": "view-in-github",
        "colab_type": "text"
      },
      "source": [
        "<a href=\"https://colab.research.google.com/github/heros-lab/colaboratory/blob/master/verification_learning.ipynb\" target=\"_parent\"><img src=\"https://colab.research.google.com/assets/colab-badge.svg\" alt=\"Open In Colab\"/></a>"
      ]
    },
    {
      "cell_type": "code",
      "metadata": {
        "id": "PnEg1U2nZz5j",
        "colab_type": "code",
        "colab": {
          "base_uri": "https://localhost:8080/",
          "height": 34
        },
        "outputId": "3c69f478-538c-43cf-c0b2-27632a569f90"
      },
      "source": [
        "import numpy as np\n",
        "import pandas as pd\n",
        "import matplotlib.pyplot as plt\n",
        "\n",
        "from tensorflow.keras.backend import clear_session\n",
        "from tensorflow.keras.models import Sequential\n",
        "from tensorflow.keras.layers import Dense\n",
        "from tensorflow.keras.optimizers import Adam\n",
        "\n",
        "from google.colab import drive\n",
        "drive.mount('/content/drive')\n"
      ],
      "execution_count": null,
      "outputs": [
        {
          "output_type": "stream",
          "text": [
            "Drive already mounted at /content/drive; to attempt to forcibly remount, call drive.mount(\"/content/drive\", force_remount=True).\n"
          ],
          "name": "stdout"
        }
      ]
    },
    {
      "cell_type": "code",
      "metadata": {
        "id": "aPnhJQMPrvU3",
        "colab_type": "code",
        "colab": {}
      },
      "source": [
        "work_path = \"/content/drive/My Drive/Colab Notebooks\"\n"
      ],
      "execution_count": null,
      "outputs": []
    },
    {
      "cell_type": "code",
      "metadata": {
        "id": "lhU7dJf8rpXx",
        "colab_type": "code",
        "colab": {}
      },
      "source": [
        "def create_model(x_dim, y_dim, units):\n",
        "    alpha=1.00e-3\n",
        "    act_function = \"tanh\"\n",
        "    init_method  = \"glorot_uniform\"\n",
        "    model = Sequential()\n",
        "    model.add(Dense(\n",
        "            input_dim=x_dim, units=units[0],\n",
        "            activation=act_function, kernel_initializer=init_method))\n",
        "    for i in range(len(units) - 1):\n",
        "        model.add(Dense(\n",
        "            input_dim=units[i], units=units[i+1],\n",
        "            activation=act_function, kernel_initializer=init_method))\n",
        "    model.add(Dense(input_dim=units[-1], units=y_dim))\n",
        "    model.compile(loss=\"mse\", optimizer=Adam(lr=alpha))\n",
        "    return model\n"
      ],
      "execution_count": null,
      "outputs": []
    },
    {
      "cell_type": "code",
      "metadata": {
        "id": "3goKNDIRfLbF",
        "colab_type": "code",
        "colab": {}
      },
      "source": [
        "x_index = [0,1,2,3,4,5,6] # model_n1, n2\n",
        "#x_index = [0,3,4,6] # model_s1\n",
        "#x_index = [1,2,5,6] # model_s2\n",
        "\n",
        "#y_index = [0]\n",
        "y_index = [2]\n",
        "\n",
        "learn_name = \"ms2a\"\n",
        "test_name  = \"ms1a\"\n",
        "\n",
        "learn_x = np.load(f\"{work_path}/learn/{learn_name}_x.npy\")[:, x_index]\n",
        "learn_y = np.load(f\"{work_path}/learn/{learn_name}_y.npy\")[:, y_index]\n",
        "\n",
        "test_x = np.load(f\"{work_path}/learn/{test_name}_x.npy\")[:, x_index]\n",
        "test_y = np.load(f\"{work_path}/learn/{test_name}_y.npy\")[:, y_index]\n"
      ],
      "execution_count": null,
      "outputs": []
    },
    {
      "cell_type": "code",
      "metadata": {
        "id": "HDbLgOp3RasE",
        "colab_type": "code",
        "colab": {}
      },
      "source": [
        "epochs = 200\n",
        "num_batch = 256\n",
        "num_sample = 101\n",
        "\n",
        "num_units = [200, 200]\n",
        "\n",
        "#num_units = [19, 17]  # model_n1\n",
        "#num_units = [3, 15]   # model_s1\n",
        "\n",
        "for i in range(num_sample):\n",
        "    clear_session()\n",
        "    print(f\"\\rsampling: #{i:3} / {num_sample-1}\", end=\"\")\n",
        "    \n",
        "    model = create_model(learn_x.shape[1], 1, num_units)\n",
        "    loss = model.fit(learn_x, learn_y, batch_size=num_batch, epochs=epochs, verbose=0)\n",
        "    resp = model.predict(test_x)[:, 0]\n",
        "    error = test_y[0] - resp\n",
        "\n",
        "    if i == 0:\n",
        "        df_loss = pd.DataFrame({f\"#{i}\": loss.history[\"loss\"]})\n",
        "        df_resp = pd.DataFrame({f\"#{i}\": resp})\n",
        "        df_error = pd.DataFrame({f\"#{i}\": error})\n",
        "    else:\n",
        "        df_loss[f\"#{i}\"] = loss.history[\"loss\"]\n",
        "        df_resp[f\"#{i}\"] = resp\n",
        "        df_error[f\"#{i}\"] = error\n"
      ],
      "execution_count": null,
      "outputs": []
    },
    {
      "cell_type": "code",
      "metadata": {
        "id": "aygbZ0YOnJwN",
        "colab_type": "code",
        "colab": {}
      },
      "source": [
        "model_tag = \"s1\"\n",
        "\n",
        "df_loss.to_csv(f\"{work_path}/vrf_{model_tag}_loss.csv\")\n",
        "df_resp.to_csv(f\"{work_path}/vrf_{model_tag}_resp.csv\")\n",
        "df_error.to_csv(f\"{work_path}/vrf_{model_tag}_error.csv\")"
      ],
      "execution_count": null,
      "outputs": []
    },
    {
      "cell_type": "code",
      "metadata": {
        "id": "WocoKsCif2-x",
        "colab_type": "code",
        "colab": {}
      },
      "source": [
        ""
      ],
      "execution_count": null,
      "outputs": []
    }
  ]
}