{
  "nbformat": 4,
  "nbformat_minor": 0,
  "metadata": {
    "colab": {
      "name": "verification_result.ipynb",
      "provenance": [],
      "collapsed_sections": [],
      "authorship_tag": "ABX9TyMzmqN6SBVnMjWzEs01ZJ8h",
      "include_colab_link": true
    },
    "kernelspec": {
      "name": "python3",
      "display_name": "Python 3"
    }
  },
  "cells": [
    {
      "cell_type": "markdown",
      "metadata": {
        "id": "view-in-github",
        "colab_type": "text"
      },
      "source": [
        "<a href=\"https://colab.research.google.com/github/heros-lab/colaboratory/blob/master/verification_result.ipynb\" target=\"_parent\"><img src=\"https://colab.research.google.com/assets/colab-badge.svg\" alt=\"Open In Colab\"/></a>"
      ]
    },
    {
      "cell_type": "code",
      "metadata": {
        "id": "zrxPIXecDPfm",
        "colab_type": "code",
        "colab": {}
      },
      "source": [
        "import numpy as np\n",
        "import pandas as pd\n",
        "import matplotlib.pyplot as plt\n",
        "\n",
        "from google.colab import drive\n",
        "drive.mount('/content/drive')\n"
      ],
      "execution_count": null,
      "outputs": []
    },
    {
      "cell_type": "code",
      "metadata": {
        "id": "tnUIkbiGD-qQ",
        "colab_type": "code",
        "colab": {}
      },
      "source": [
        "def filter(pd_series, labels):\n",
        "    q1 = pd_series.quantile(.25)\n",
        "    q3 = pd_series.quantile(.75)\n",
        "    iqr = q3 - q1\n",
        "    upper = q3 + iqr*1.5\n",
        "    lower = q1 - iqr*1.5\n",
        "    judge = list(pd_series.apply(lambda x:lower < x < upper))\n",
        "\n",
        "    new_index = []\n",
        "    #print(len(judge))\n",
        "    for i in range(len(judge)):\n",
        "        #print(f\"#{i:3} --> {judge[i]}\")\n",
        "        if judge[i]==True:\n",
        "            new_index.append(labels[i])\n",
        "\n",
        "    return new_index"
      ],
      "execution_count": 2,
      "outputs": []
    },
    {
      "cell_type": "code",
      "metadata": {
        "id": "9FgmAJoEEGah",
        "colab_type": "code",
        "colab": {}
      },
      "source": [
        "model_a = \"n1\"\n",
        "model_b = \"s1\"\n",
        "\n",
        "#t = np.arange(0, 10.0, 0.001)  # if test-data is ms2a\n",
        "t = np.arange(0, 20.0, 0.001)  # if test-data is ms1a\n",
        "labels = [f\"#{i}\" for i in range(101)]\n",
        "\n",
        "df_loss_a = pd.read_csv(f\"{work_path}/vrf_{model_a}_loss.csv\")\n",
        "df_resp_a = pd.read_csv(f\"{work_path}/vrf_{model_a}_resp.csv\")\n",
        "\n",
        "df_loss_b = pd.read_csv(f\"{work_path}/vrf_{model_b}_loss.csv\")\n",
        "df_resp_b = pd.read_csv(f\"{work_path}/vrf_{model_b}_resp.csv\")\n",
        "\n",
        "df_error_a = pd.DataFrame({f\"#{i}\": test_y[:,0] - df_resp_a[labels[i]].values for i in range(len(labels))})\n",
        "df_error_b = pd.DataFrame({f\"#{i}\": test_y[:,0] - df_resp_b[labels[i]].values for i in range(len(labels))})\n"
      ],
      "execution_count": null,
      "outputs": []
    },
    {
      "cell_type": "code",
      "metadata": {
        "id": "BeydIy-UEYtg",
        "colab_type": "code",
        "colab": {}
      },
      "source": [
        "filt_index_a = filter(pd.Series(df_loss_a[labels].tail(1).values[0]), labels)\n",
        "filt_index_b = filter(pd.Series(df_loss_b[labels].tail(1).values[0]), labels)\n",
        "\n",
        "df_loss_af = df_loss_a[filt_index_a]\n",
        "df_resp_af = df_resp_a[filt_index_a].set_index(t)\n",
        "df_error_af = df_error_a[filt_index_a].set_index(t)\n",
        "\n",
        "df_loss_bf = df_loss_b[filt_index_b]\n",
        "df_resp_bf = df_resp_b[filt_index_b].set_index(t)\n",
        "df_error_bf = df_error_b[filt_index_b].set_index(t)\n"
      ],
      "execution_count": null,
      "outputs": []
    },
    {
      "cell_type": "code",
      "metadata": {
        "id": "ak-VjV2uEYq_",
        "colab_type": "code",
        "colab": {}
      },
      "source": [
        "fig, ax = plt.subplots(1,2, figsize=(12,4), dpi=200)\n",
        "df_loss_af.mean(axis=1).plot(ax=ax[0])\n",
        "df_loss_bf.mean(axis=1).plot(ax=ax[0])\n",
        "ax[0].grid()\n",
        "ax[0].set_ylabel(\"learning loss (mean)\")\n",
        "ax[0].set_xlabel(\"epochs\")\n",
        "\n",
        "df_loss_af.mean(axis=1).plot(ax=ax[1])\n",
        "df_loss_bf.mean(axis=1).plot(ax=ax[1])\n",
        "ax[1].set_xlim(100, 200)\n",
        "ax[1].set_ylim(0.0, 0.0004)\n",
        "ax[1].grid()\n",
        "ax[1].set_xlabel(\"epochs\")\n",
        "ax[1].legend([\"Conventional Network\", \"Proposed Network\"])"
      ],
      "execution_count": null,
      "outputs": []
    },
    {
      "cell_type": "code",
      "metadata": {
        "id": "Oi39OVELEgIR",
        "colab_type": "code",
        "colab": {}
      },
      "source": [
        "error_result = pd.DataFrame({\n",
        "    \"Conv.\"        : pd.Series(np.sqrt(np.square(df_error_a[label].values).mean()) for label in labels),\n",
        "    \"Prop.\"        : pd.Series(np.sqrt(np.square(df_error_b[label].values).mean()) for label in labels),\n",
        "    \"Conv.(filter)\": pd.Series(np.sqrt(np.square(df_error_af[label].values).mean()) for label in filt_index_a),\n",
        "    \"Prop.(filter)\": pd.Series(np.sqrt(np.square(df_error_bf[label].values).mean()) for label in filt_index_b)})\n",
        "\n",
        "fig, ax = plt.subplots(1,2,figsize=(12,4), dpi=200)\n",
        "\n",
        "error_result.plot.box(ax=ax[0])\n",
        "error_result.plot.box(ax=ax[1], y=[\"Conv.(filter)\", \"Prop.(filter)\"])\n",
        "ax[0].set_ylabel(\"Estimated error (RMSE)\")"
      ],
      "execution_count": null,
      "outputs": []
    },
    {
      "cell_type": "code",
      "metadata": {
        "id": "obGjunfcEjMC",
        "colab_type": "code",
        "colab": {}
      },
      "source": [
        "error_result.describe().loc[[\"count\", \"mean\", \"std\"]]"
      ],
      "execution_count": null,
      "outputs": []
    },
    {
      "cell_type": "code",
      "metadata": {
        "id": "t3nBm77jEmtT",
        "colab_type": "code",
        "colab": {}
      },
      "source": [
        "fig, ax = plt.subplots(2, 1, figsize=(5, 5), dpi=200)\n",
        "\n",
        "ax[0].plot(t, test_y[:, 0], \"r:\")\n",
        "df_resp_af.mean(axis=1).plot(ax=ax[0])\n",
        "df_resp_bf.mean(axis=1).plot(ax=ax[0])\n",
        "ax[0].set_ylabel(\"Estimated response\")\n",
        "ax[0].legend([\"Reference\", \"Conventional Network\", \"Proposed Network\"], loc=1)\n",
        "ax[0].grid()\n",
        "\n",
        "df_error_af.mean(axis=1).plot(ax=ax[1])\n",
        "df_error_bf.mean(axis=1).plot(ax=ax[1])\n",
        "ax[1].set_ylabel(\"Estimated error\")\n",
        "ax[1].set_xlabel(\"Time [sec]\")\n",
        "ax[1].grid()"
      ],
      "execution_count": null,
      "outputs": []
    },
    {
      "cell_type": "code",
      "metadata": {
        "id": "oMk8IEj7Epzk",
        "colab_type": "code",
        "colab": {}
      },
      "source": [
        "rmse_af = np.array([np.sqrt(np.square(df_error_af[label].values).mean()) for label in filt_index_a]).mean()\n",
        "rmse_bf = np.array([np.sqrt(np.square(df_error_bf[label].values).mean()) for label in filt_index_b]).mean()\n",
        "\n",
        "print(f\"{rmse_af:.4e}, {rmse_bf:.4e}\")"
      ],
      "execution_count": null,
      "outputs": []
    },
    {
      "cell_type": "code",
      "metadata": {
        "id": "QBTpu3INErzF",
        "colab_type": "code",
        "colab": {}
      },
      "source": [
        "(rmse_af - rmse_bf)/rmse_af * 100"
      ],
      "execution_count": null,
      "outputs": []
    }
  ]
}