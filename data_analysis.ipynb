{
  "nbformat": 4,
  "nbformat_minor": 0,
  "metadata": {
    "colab": {
      "name": "data_analysis.ipynb",
      "provenance": [],
      "authorship_tag": "ABX9TyPu3aTVT+PAnfKGeK7AT5Jr",
      "include_colab_link": true
    },
    "kernelspec": {
      "name": "python3",
      "display_name": "Python 3"
    }
  },
  "cells": [
    {
      "cell_type": "markdown",
      "metadata": {
        "id": "view-in-github",
        "colab_type": "text"
      },
      "source": [
        "<a href=\"https://colab.research.google.com/github/heros-lab/colaboratory/blob/master/data_analysis.ipynb\" target=\"_parent\"><img src=\"https://colab.research.google.com/assets/colab-badge.svg\" alt=\"Open In Colab\"/></a>"
      ]
    },
    {
      "cell_type": "code",
      "metadata": {
        "id": "rSSKZK8LEoFE",
        "colab_type": "code",
        "colab": {
          "base_uri": "https://localhost:8080/",
          "height": 122
        },
        "outputId": "8060addc-9605-4dc0-ba33-5a066a3394d8"
      },
      "source": [
        "from google.colab import drive\n",
        "drive.mount('/content/drive')\n",
        "\n",
        "import numpy as np\n",
        "import pandas as pd\n",
        "import matplotlib.pyplot as plt\n",
        "\n",
        "work_path = \"/content/drive/My Drive/Colab Notebooks\""
      ],
      "execution_count": 1,
      "outputs": [
        {
          "output_type": "stream",
          "text": [
            "Go to this URL in a browser: https://accounts.google.com/o/oauth2/auth?client_id=947318989803-6bn6qk8qdgf4n4g3pfee6491hc0brc4i.apps.googleusercontent.com&redirect_uri=urn%3aietf%3awg%3aoauth%3a2.0%3aoob&response_type=code&scope=email%20https%3a%2f%2fwww.googleapis.com%2fauth%2fdocs.test%20https%3a%2f%2fwww.googleapis.com%2fauth%2fdrive%20https%3a%2f%2fwww.googleapis.com%2fauth%2fdrive.photos.readonly%20https%3a%2f%2fwww.googleapis.com%2fauth%2fpeopleapi.readonly\n",
            "\n",
            "Enter your authorization code:\n",
            "··········\n",
            "Mounted at /content/drive\n"
          ],
          "name": "stdout"
        }
      ]
    },
    {
      "cell_type": "code",
      "metadata": {
        "id": "1PrplNsVFA82",
        "colab_type": "code",
        "colab": {}
      },
      "source": [
        "data1_x = np.load(f\"{work_path}/learn/ms1a_x.npy\")\n",
        "data1_y = np.load(f\"{work_path}/learn/ms1a_y.npy\")\n",
        "data2_x = np.load(f\"{work_path}/learn/ms2a_x.npy\")\n",
        "data2_y = np.load(f\"{work_path}/learn/ms2a_y.npy\")"
      ],
      "execution_count": 25,
      "outputs": []
    },
    {
      "cell_type": "code",
      "metadata": {
        "id": "YoT1iYasFkU6",
        "colab_type": "code",
        "colab": {}
      },
      "source": [
        "df_state1 = pd.DataFrame(data1_x)\n",
        "df_state2 = pd.DataFrame(data2_x)\n",
        "df_output1 = pd.DataFrame(data1_y)\n",
        "df_output2 = pd.DataFrame(data2_y)\n",
        "\n",
        "state_columns  = [\"x1[k]\",\"x2[k]\",\"x3[k]\",\"x4[k]\",\"d/dt x3[k]\",\"d/dt x4[k]\",\"u[k]\"]\n",
        "df_state1.columns = state_columns\n",
        "df_state2.columns = state_columns\n",
        "\n",
        "output_columns  = [\"x1[k+1]\",\"x2[k+1]\",\"x3[k+1]\",\"x4[k+1]\"]\n",
        "df_output1.columns = output_columns\n",
        "df_output2.columns = output_columns\n",
        "\n",
        "sim1_times = np.arange(0,20,0.001)\n",
        "df_state1.index = sim1_times\n",
        "df_output1.index = sim1_times\n",
        "\n",
        "sim2_times = np.arange(0,10,0.001)\n",
        "df_state2.index = sim2_times\n",
        "df_output2.index = sim2_times"
      ],
      "execution_count": 50,
      "outputs": []
    },
    {
      "cell_type": "code",
      "metadata": {
        "id": "kPLv3dBxFyQp",
        "colab_type": "code",
        "colab": {}
      },
      "source": [
        "df_ms1 = df_output1.join(state1)\n",
        "df_ms2 = df_output2.join(state2)"
      ],
      "execution_count": 84,
      "outputs": []
    },
    {
      "cell_type": "code",
      "metadata": {
        "id": "z6Gs7swNHw0X",
        "colab_type": "code",
        "colab": {
          "base_uri": "https://localhost:8080/",
          "height": 392
        },
        "outputId": "ae9b2a70-86e0-452d-9839-f43440a7de1b"
      },
      "source": [
        "fig, ax = plt.subplots(1,2,figsize=(16,5))\n",
        "df_ms1.corr().abs()[output_columns][4:-1].plot.bar(title=\"M-Series for x1 estimation\", ax=ax[0])\n",
        "df_ms2.corr().abs()[output_columns][4:-1].plot.bar(title=\"M-Series for x3 estimation\", ax=ax[1])\n"
      ],
      "execution_count": 91,
      "outputs": [
        {
          "output_type": "execute_result",
          "data": {
            "text/plain": [
              "<matplotlib.axes._subplots.AxesSubplot at 0x7f60c13ea710>"
            ]
          },
          "metadata": {
            "tags": []
          },
          "execution_count": 91
        },
        {
          "output_type": "display_data",
          "data": {
            "image/png": "[encoded data removed]",
            "text/plain": [
              "<Figure size 1152x360 with 2 Axes>"
            ]
          },
          "metadata": {
            "tags": [],
            "needs_background": "light"
          }
        }
      ]
    },
    {
      "cell_type": "code",
      "metadata": {
        "id": "wnhYwCbFQfji",
        "colab_type": "code",
        "colab": {}
      },
      "source": [
        ""
      ],
      "execution_count": null,
      "outputs": []
    }
  ]
}