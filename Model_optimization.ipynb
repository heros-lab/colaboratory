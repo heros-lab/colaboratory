{
  "nbformat": 4,
  "nbformat_minor": 0,
  "metadata": {
    "colab": {
      "name": "Model_optimization_v5.ipynb",
      "provenance": [],
      "collapsed_sections": [],
      "include_colab_link": true
    },
    "kernelspec": {
      "name": "python3",
      "display_name": "Python 3"
    },
    "accelerator": "GPU"
  },
  "cells": [
    {
      "cell_type": "markdown",
      "metadata": {
        "id": "view-in-github",
        "colab_type": "text"
      },
      "source": [
        "<a href=\"https://colab.research.google.com/github/heros-lab/colaboratory/blob/master/Model_optimization.ipynb\" target=\"_parent\"><img src=\"https://colab.research.google.com/assets/colab-badge.svg\" alt=\"Open In Colab\"/></a>"
      ]
    },
    {
      "cell_type": "code",
      "metadata": {
        "id": "qhJLFfAg-Mvs",
        "colab_type": "code",
        "colab": {}
      },
      "source": [
        "import numpy as np\n",
        "import pandas as pd\n",
        "import matplotlib.pyplot as plt\n",
        "\n",
        "from tensorflow.keras.backend import clear_session\n",
        "from tensorflow.keras.models import Sequential\n",
        "from tensorflow.keras.layers import Dense\n",
        "from tensorflow.keras.optimizers import Adam\n",
        "\n",
        "from google.colab import drive\n",
        "drive.mount('/content/drive')\n",
        "\n",
        "work_path = \"/content/drive/My Drive/Colab Notebooks\"\n"
      ],
      "execution_count": 0,
      "outputs": []
    },
    {
      "cell_type": "code",
      "metadata": {
        "id": "r-j_D3nd_AdV",
        "colab_type": "code",
        "colab": {}
      },
      "source": [
        "!pip install optuna\n",
        "\n",
        "import optuna\n",
        "from optuna.integration import KerasPruningCallback\n"
      ],
      "execution_count": 0,
      "outputs": []
    },
    {
      "cell_type": "code",
      "metadata": {
        "id": "SLnWVIbO_J40",
        "colab_type": "code",
        "colab": {}
      },
      "source": [
        "x_index = [0,1,2,3,4,5,6] # model_n1, n2\n",
        "#x_index = [0,3,4,6] # model_s1\n",
        "#x_index = [1,2,5,6] # model_s2\n",
        "y_index = [2]\n",
        "\n",
        "learn_name = \"ms2a\"\n",
        "test_name  = \"ms1a\"\n",
        "\n",
        "learn_x = np.load(f\"{work_path}/learn/{learn_name}_x.npy\")[:, x_index]\n",
        "learn_y = np.load(f\"{work_path}/learn/{learn_name}_y.npy\")[:, y_index]\n",
        "\n",
        "test_x = np.load(f\"{work_path}/learn/{test_name}_x.npy\")[:, x_index]\n",
        "test_y = np.load(f\"{work_path}/learn/{test_name}_y.npy\")[:, y_index]\n"
      ],
      "execution_count": 0,
      "outputs": []
    },
    {
      "cell_type": "code",
      "metadata": {
        "id": "d4MWBcF_85AM",
        "colab_type": "code",
        "colab": {}
      },
      "source": [
        "class optimize_manager:\n",
        "    def __init__(self, study_name):\n",
        "        self.score_path  = f\"{work_path}/score_{study_name}.csv\"\n",
        "        self.result_path = f\"{work_path}/result_{study_name}.csv\"\n",
        "\n",
        "    def filtering_with_IQR(self, data_list):\n",
        "        pd_series = pd.Series(data_list)\n",
        "        q1 = pd_series.quantile(.25)\n",
        "        q3 = pd_series.quantile(.75)\n",
        "        iqr = q3 - q1\n",
        "        lim_upper = q3 + iqr*1.5\n",
        "        lim_lower = q1 - iqr*1.5\n",
        "        return pd_series[pd_series.apply(lambda x:lim_lower < x < lim_upper)]    \n",
        "\n",
        "    def save_scores(self, count, unit1, unit2, data_list):\n",
        "        with open(self.score_path, \"w\" if count == 0 else \"a\") as file:\n",
        "            file.write(f\"#{count}, {unit1}, {unit2}\")\n",
        "            for data in data_list:\n",
        "                file.write(f\", {data:.6e}\")\n",
        "            file.write(\"\\n\")\n",
        "\n",
        "    def save_results(self, count, unit1, unit2, samples, mean, std, mean_f, std_f):\n",
        "        if count == 0:\n",
        "            with open(self.result_path, \"w\") as file:\n",
        "                file.write(\"Trials, Unit-1, Unit-2, Samples(Full:101), Estimated loss(mean), Standard-deviation, Estimated loss(filtering-mean), Standard-deviation(filtering)\\n\")\n",
        "                file.write(f\"#{count}, {unit1}, {unit2}, {samples}, {mean:.6e}, {std:.6e}, {mean_f:.6e}, {std_f:.6e}\\n\")\n",
        "        else:\n",
        "            with open(self.result_path, \"a\") as file:\n",
        "                file.write(f\"#{count}, {unit1}, {unit2}, {samples}, {mean:.6e}, {std:.6e}, {mean_f:.6e}, {std_f:.6e}\\n\")\n",
        "\n",
        "    def objective(self, trial):\n",
        "        epochs = 200\n",
        "        num_batch = 256\n",
        "        num_sample = 101\n",
        "        num_unit1 = trial.suggest_int(\"num_unit1\", 1, 200)\n",
        "        num_unit2 = trial.suggest_int(\"num_unit2\", 1, 200)\n",
        "\n",
        "        score_list = []\n",
        "        for i in range(num_sample):\n",
        "            clear_session()\n",
        "            print(f\"\\r#{trial.number:2} -- unit: [{num_unit1}, {num_unit2}], sampling: {i+1}/{num_sample}\", end=\"\")\n",
        "            \n",
        "            model = Sequential([\n",
        "                Dense(input_dim=learn_x.shape[1], units=num_unit1, activation=\"tanh\", kernel_initializer=\"glorot_uniform\"),\n",
        "                Dense(input_dim=num_unit1, units=num_unit2, activation=\"tanh\", kernel_initializer=\"glorot_uniform\"),\n",
        "                Dense(input_dim=num_unit2, units=1)])\n",
        "            model.compile(loss=\"mse\", optimizer=Adam(lr=0.001))\n",
        "            model.fit(learn_x, learn_y, batch_size=num_batch, epochs=epochs, verbose=0)\n",
        "            score = model.evaluate(test_x, test_y, batch_size=test_x.shape[0], verbose=0)\n",
        "            score_list.append(score)\n",
        "        \n",
        "        # フィルタ処理\n",
        "        score_list_flt = self.filtering_with_IQR(score_list)\n",
        "        \n",
        "        # 平均と標準偏差の算出\n",
        "        mean, std = pd.Series(score_list).describe().loc[[\"mean\",\"std\"]]        \n",
        "        samples, mean_f, std_f = score_list_flt.describe().loc[[\"count\",\"mean\",\"std\"]]\n",
        "        \n",
        "        # 保存＆結果出力\n",
        "        self.save_scores(trial.number, num_unit1, num_unit2, score_list)\n",
        "        self.save_results(trial.number, num_unit1, num_unit2, samples, mean, std, mean_f, std_f)\n",
        "        print(f\"\\r#{trial.number:2} -- unit: [{num_unit1}, {num_unit2}], samples: {samples}/101, mean: {mean:.4e}, std: {std:.4e}\")\n",
        "\n",
        "        return mean"
      ],
      "execution_count": 0,
      "outputs": []
    },
    {
      "cell_type": "code",
      "metadata": {
        "id": "FZCEHBSEvRbr",
        "colab_type": "code",
        "outputId": "5848f5c2-bf29-4041-a8e2-4068fb4eb2b0",
        "colab": {
          "base_uri": "https://localhost:8080/",
          "height": 34
        }
      },
      "source": [
        "STUDY_LOADING = False\n",
        "\n",
        "storage_path = f\"sqlite:///{work_path}/opt_model_n2.db\"\n",
        "study_name = \"n2_ver0.4\"\n",
        "manager = optimize_manager(study_name)\n",
        "\n",
        "\n",
        "# study load or create\n",
        "if STUDY_LOADING:\n",
        "    study = optuna.load_study(study_name, storage_path, pruner=optuna.pruners.MedianPruner())\n",
        "else:\n",
        "    study = optuna.create_study(study_name=study_name, storage=storage_path, direction=\"minimize\", pruner=optuna.pruners.MedianPruner())\n"
      ],
      "execution_count": 16,
      "outputs": [
        {
          "output_type": "stream",
          "text": [
            "[I 2020-06-16 09:18:40,504] A new study created with name: n2_ver0.4\n"
          ],
          "name": "stderr"
        }
      ]
    },
    {
      "cell_type": "code",
      "metadata": {
        "id": "iHoh1z78I6z2",
        "colab_type": "code",
        "outputId": "e2c5e2f3-da9d-4b2d-b649-26e67ad15e94",
        "colab": {
          "base_uri": "https://localhost:8080/",
          "height": 578
        }
      },
      "source": [
        "study.optimize(manager.objective, n_trials=50)\n",
        "\n",
        "print(\"\\n\")\n",
        "print(\"*** All Trial are finished!! ***\")"
      ],
      "execution_count": 0,
      "outputs": [
        {
          "output_type": "stream",
          "text": [
            "# 0 -- unit: [48, 61], samples: 95.0/101, mean: 6.2212e-02, std: 1.1711e-01\n"
          ],
          "name": "stdout"
        },
        {
          "output_type": "stream",
          "text": [
            "[I 2020-06-16 09:43:50,996] Finished trial#0 with value: 0.06221161557748766 with parameters: {'num_unit1': 48, 'num_unit2': 61}. Best is trial#0 with value: 0.06221161557748766.\n"
          ],
          "name": "stderr"
        },
        {
          "output_type": "stream",
          "text": [
            "# 1 -- unit: [135, 142], samples: 100.0/101, mean: 4.2115e-02, std: 6.8898e-03\n"
          ],
          "name": "stdout"
        },
        {
          "output_type": "stream",
          "text": [
            "[I 2020-06-16 10:08:59,300] Finished trial#1 with value: 0.042115417871587346 with parameters: {'num_unit1': 135, 'num_unit2': 142}. Best is trial#1 with value: 0.042115417871587346.\n"
          ],
          "name": "stderr"
        },
        {
          "output_type": "stream",
          "text": [
            "# 2 -- unit: [101, 61], samples: 101.0/101, mean: 4.4525e-02, std: 8.2808e-03\n"
          ],
          "name": "stdout"
        },
        {
          "output_type": "stream",
          "text": [
            "[I 2020-06-16 10:33:41,954] Finished trial#2 with value: 0.04452450886958897 with parameters: {'num_unit1': 101, 'num_unit2': 61}. Best is trial#1 with value: 0.042115417871587346.\n"
          ],
          "name": "stderr"
        },
        {
          "output_type": "stream",
          "text": [
            "# 3 -- unit: [20, 170], samples: 83.0/101, mean: 2.4767e-01, std: 4.4947e-01\n"
          ],
          "name": "stdout"
        },
        {
          "output_type": "stream",
          "text": [
            "[I 2020-06-16 10:58:38,610] Finished trial#3 with value: 0.2476725416571492 with parameters: {'num_unit1': 20, 'num_unit2': 170}. Best is trial#1 with value: 0.042115417871587346.\n"
          ],
          "name": "stderr"
        },
        {
          "output_type": "stream",
          "text": [
            "# 4 -- unit: [90, 183], samples: 100.0/101, mean: 4.8209e-02, std: 9.1148e-03\n"
          ],
          "name": "stdout"
        },
        {
          "output_type": "stream",
          "text": [
            "[I 2020-06-16 11:23:32,356] Finished trial#4 with value: 0.048209454864263535 with parameters: {'num_unit1': 90, 'num_unit2': 183}. Best is trial#1 with value: 0.042115417871587346.\n"
          ],
          "name": "stderr"
        },
        {
          "output_type": "stream",
          "text": [
            "# 5 -- unit: [21, 62], samples: 83.0/101, mean: 2.3796e-01, std: 4.3758e-01\n"
          ],
          "name": "stdout"
        },
        {
          "output_type": "stream",
          "text": [
            "[I 2020-06-16 11:48:24,819] Finished trial#5 with value: 0.23795512521473489 with parameters: {'num_unit1': 21, 'num_unit2': 62}. Best is trial#1 with value: 0.042115417871587346.\n"
          ],
          "name": "stderr"
        },
        {
          "output_type": "stream",
          "text": [
            "# 6 -- unit: [106, 14], samples: 100.0/101, mean: 4.3253e-02, std: 7.8080e-03\n"
          ],
          "name": "stdout"
        },
        {
          "output_type": "stream",
          "text": [
            "[I 2020-06-16 12:13:28,714] Finished trial#6 with value: 0.04325340996210528 with parameters: {'num_unit1': 106, 'num_unit2': 14}. Best is trial#1 with value: 0.042115417871587346.\n"
          ],
          "name": "stderr"
        },
        {
          "output_type": "stream",
          "text": [
            "# 7 -- unit: [144, 47], samples: 99.0/101, mean: 4.0326e-02, std: 8.3986e-03\n"
          ],
          "name": "stdout"
        },
        {
          "output_type": "stream",
          "text": [
            "[I 2020-06-16 12:39:01,174] Finished trial#7 with value: 0.04032604796535308 with parameters: {'num_unit1': 144, 'num_unit2': 47}. Best is trial#7 with value: 0.04032604796535308.\n"
          ],
          "name": "stderr"
        },
        {
          "output_type": "stream",
          "text": [
            "# 8 -- unit: [20, 30], samples: 78.0/101, mean: 2.8956e-01, std: 4.7500e-01\n"
          ],
          "name": "stdout"
        },
        {
          "output_type": "stream",
          "text": [
            "[I 2020-06-16 13:04:25,012] Finished trial#8 with value: 0.2895568647228255 with parameters: {'num_unit1': 20, 'num_unit2': 30}. Best is trial#7 with value: 0.04032604796535308.\n"
          ],
          "name": "stderr"
        },
        {
          "output_type": "stream",
          "text": [
            "# 9 -- unit: [185, 176], samples: 99.0/101, mean: 3.9344e-02, std: 6.1669e-03\n"
          ],
          "name": "stdout"
        },
        {
          "output_type": "stream",
          "text": [
            "[I 2020-06-16 13:29:38,110] Finished trial#9 with value: 0.039344019265753205 with parameters: {'num_unit1': 185, 'num_unit2': 176}. Best is trial#9 with value: 0.039344019265753205.\n"
          ],
          "name": "stderr"
        },
        {
          "output_type": "stream",
          "text": [
            "#10 -- unit: [193, 125], samples: 97.0/101, mean: 4.0160e-02, std: 6.5694e-03\n"
          ],
          "name": "stdout"
        },
        {
          "output_type": "stream",
          "text": [
            "[I 2020-06-16 13:54:37,217] Finished trial#10 with value: 0.04016041316755927 with parameters: {'num_unit1': 193, 'num_unit2': 125}. Best is trial#9 with value: 0.039344019265753205.\n"
          ],
          "name": "stderr"
        },
        {
          "output_type": "stream",
          "text": [
            "#11 -- unit: [199, 123], samples: 99.0/101, mean: 3.8802e-02, std: 5.3340e-03\n"
          ],
          "name": "stdout"
        },
        {
          "output_type": "stream",
          "text": [
            "[I 2020-06-16 14:19:50,217] Finished trial#11 with value: 0.03880211072835592 with parameters: {'num_unit1': 199, 'num_unit2': 123}. Best is trial#11 with value: 0.03880211072835592.\n"
          ],
          "name": "stderr"
        },
        {
          "output_type": "stream",
          "text": [
            "#12 -- unit: [193, 107], samples: 99.0/101, mean: 3.9015e-02, std: 5.5903e-03\n"
          ],
          "name": "stdout"
        },
        {
          "output_type": "stream",
          "text": [
            "[I 2020-06-16 14:44:48,039] Finished trial#12 with value: 0.0390145168962455 with parameters: {'num_unit1': 193, 'num_unit2': 107}. Best is trial#11 with value: 0.03880211072835592.\n"
          ],
          "name": "stderr"
        },
        {
          "output_type": "stream",
          "text": [
            "#13 -- unit: [169, 98], samples: 100.0/101, mean: 4.0030e-02, std: 6.7552e-03\n"
          ],
          "name": "stdout"
        },
        {
          "output_type": "stream",
          "text": [
            "[I 2020-06-16 15:09:46,825] Finished trial#13 with value: 0.04003014564883001 with parameters: {'num_unit1': 169, 'num_unit2': 98}. Best is trial#11 with value: 0.03880211072835592.\n"
          ],
          "name": "stderr"
        },
        {
          "output_type": "stream",
          "text": [
            "#14 -- unit: [160, 98], samples: 97.0/101, mean: 4.0034e-02, std: 7.1160e-03\n"
          ],
          "name": "stdout"
        },
        {
          "output_type": "stream",
          "text": [
            "[I 2020-06-16 15:34:42,016] Finished trial#14 with value: 0.04003384855050262 with parameters: {'num_unit1': 160, 'num_unit2': 98}. Best is trial#11 with value: 0.03880211072835592.\n"
          ],
          "name": "stderr"
        },
        {
          "output_type": "stream",
          "text": [
            "#15 -- unit: [197, 139], samples: 98.0/101, mean: 3.9350e-02, std: 9.3822e-03\n"
          ],
          "name": "stdout"
        },
        {
          "output_type": "stream",
          "text": [
            "[I 2020-06-16 15:59:56,223] Finished trial#15 with value: 0.039350341655092665 with parameters: {'num_unit1': 197, 'num_unit2': 139}. Best is trial#11 with value: 0.03880211072835592.\n"
          ],
          "name": "stderr"
        },
        {
          "output_type": "stream",
          "text": [
            "#16 -- unit: [200, 113], sampling: 64/101"
          ],
          "name": "stdout"
        }
      ]
    },
    {
      "cell_type": "code",
      "metadata": {
        "id": "gLgPp6AFc40I",
        "colab_type": "code",
        "colab": {}
      },
      "source": [
        ""
      ],
      "execution_count": 0,
      "outputs": []
    }
  ]
}